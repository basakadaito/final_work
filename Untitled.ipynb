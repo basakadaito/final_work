{
 "cells": [
  {
   "cell_type": "code",
   "execution_count": 1,
   "id": "2ca66e23-0c07-40f4-8301-cd674463c3b8",
   "metadata": {},
   "outputs": [],
   "source": [
    "import pandas as pd\n",
    "from pytrends.request import TrendReq\n",
    "import matplotlib.pyplot as plt\n",
    "import time\n",
    "\n",
    "Trending_topics = TrendReq(hl='en-US', tz=360)\n"
   ]
  },
  {
   "cell_type": "code",
   "execution_count": 2,
   "id": "09825282-7845-47d8-8f79-14ed2e3d37af",
   "metadata": {},
   "outputs": [],
   "source": [
    "kw_list=[\"Cloud Computing\"]\n",
    "Trending_topics.build_payload(kw_list,cat=0, timeframe='today 12-m')\n",
    "time.sleep(5) \n"
   ]
  },
  {
   "cell_type": "code",
   "execution_count": 3,
   "id": "91ce72c3-cafa-4eb8-b6a6-c69473477e78",
   "metadata": {},
   "outputs": [
    {
     "name": "stdout",
     "output_type": "stream",
     "text": [
      "            Cloud Computing  isPartial\n",
      "date                                  \n",
      "2024-01-28              100      False\n",
      "2024-02-18               95      False\n",
      "2024-05-19               94      False\n",
      "2024-11-17               94      False\n",
      "2024-02-11               93      False\n",
      "2024-02-04               93      False\n",
      "2024-12-01               92      False\n",
      "2025-01-19               92       True\n",
      "2024-01-21               91      False\n",
      "2024-05-05               91      False\n"
     ]
    },
    {
     "name": "stderr",
     "output_type": "stream",
     "text": [
      "C:\\Users\\User\\AppData\\Local\\Programs\\Python\\Python313\\Lib\\site-packages\\pytrends\\request.py:260: FutureWarning: Downcasting object dtype arrays on .fillna, .ffill, .bfill is deprecated and will change in a future version. Call result.infer_objects(copy=False) instead. To opt-in to the future behavior, set `pd.set_option('future.no_silent_downcasting', True)`\n",
      "  df = df.fillna(False)\n"
     ]
    }
   ],
   "source": [
    "data = Trending_topics.interest_over_time()\n",
    "data = data.sort_values(by=\"Cloud Computing\", ascending = False)\n",
    "data = data.head(10)\n",
    "print(data)\n"
   ]
  },
  {
   "cell_type": "code",
   "execution_count": 5,
   "id": "2ca2af8d-e0e4-42f9-9d81-f07abc69b57b",
   "metadata": {},
   "outputs": [
    {
     "name": "stdout",
     "output_type": "stream",
     "text": [
      "            Cloud Computing\n",
      "geoName                    \n",
      "Ethiopia                100\n",
      "Nepal                    46\n",
      "Cameroon                 40\n",
      "St. Helena               37\n",
      "India                    36\n",
      "China                    30\n",
      "Kenya                    22\n",
      "Singapore                20\n",
      "Sri Lanka                20\n",
      "Pakistan                 19\n"
     ]
    }
   ],
   "source": [
    "data = Trending_topics.interest_by_region()\n",
    "data = data.sort_values(by=\"Cloud Computing\", \n",
    "                        ascending = False)\n",
    "data = data.head(10)\n",
    "print(data)\n"
   ]
  },
  {
   "cell_type": "code",
   "execution_count": 6,
   "id": "4250ee84-0d58-4884-9f99-be84c3cba778",
   "metadata": {},
   "outputs": [
    {
     "data": {
      "image/png": "[encoded data removed]",
      "text/plain": [
       "<Figure size 1000x500 with 1 Axes>"
      ]
     },
     "metadata": {},
     "output_type": "display_data"
    }
   ],
   "source": [
    "data.reset_index().plot(x='geoName', y='Cloud Computing',\n",
    "                        figsize=(10,5), kind=\"bar\")\n",
    "plt.style.use('fivethirtyeight')\n",
    "plt.show()\n"
   ]
  },
  {
   "cell_type": "code",
   "execution_count": 7,
   "id": "fc8ec1a0-f704-4c0a-98bf-768d80c57516",
   "metadata": {},
   "outputs": [
    {
     "data": {
      "text/html": [
       "<div>\n",
       "<style scoped>\n",
       "    .dataframe tbody tr th:only-of-type {\n",
       "        vertical-align: middle;\n",
       "    }\n",
       "\n",
       "    .dataframe tbody tr th {\n",
       "        vertical-align: top;\n",
       "    }\n",
       "\n",
       "    .dataframe thead th {\n",
       "        text-align: right;\n",
       "    }\n",
       "</style>\n",
       "<table border=\"1\" class=\"dataframe\">\n",
       "  <thead>\n",
       "    <tr style=\"text-align: right;\">\n",
       "      <th></th>\n",
       "      <th>title</th>\n",
       "      <th>exploreQuery</th>\n",
       "    </tr>\n",
       "  </thead>\n",
       "  <tbody>\n",
       "    <tr>\n",
       "      <th>0</th>\n",
       "      <td>Coronavirus</td>\n",
       "      <td></td>\n",
       "    </tr>\n",
       "    <tr>\n",
       "      <th>1</th>\n",
       "      <td>Election results</td>\n",
       "      <td></td>\n",
       "    </tr>\n",
       "    <tr>\n",
       "      <th>2</th>\n",
       "      <td>Kobe Bryant</td>\n",
       "      <td></td>\n",
       "    </tr>\n",
       "    <tr>\n",
       "      <th>3</th>\n",
       "      <td>Zoom</td>\n",
       "      <td></td>\n",
       "    </tr>\n",
       "    <tr>\n",
       "      <th>4</th>\n",
       "      <td>IPL</td>\n",
       "      <td></td>\n",
       "    </tr>\n",
       "    <tr>\n",
       "      <th>5</th>\n",
       "      <td>India vs New Zealand</td>\n",
       "      <td></td>\n",
       "    </tr>\n",
       "    <tr>\n",
       "      <th>6</th>\n",
       "      <td>Coronavirus update</td>\n",
       "      <td></td>\n",
       "    </tr>\n",
       "    <tr>\n",
       "      <th>7</th>\n",
       "      <td>Coronavirus symptoms</td>\n",
       "      <td></td>\n",
       "    </tr>\n",
       "    <tr>\n",
       "      <th>8</th>\n",
       "      <td>Joe Biden</td>\n",
       "      <td></td>\n",
       "    </tr>\n",
       "    <tr>\n",
       "      <th>9</th>\n",
       "      <td>Google Classroom</td>\n",
       "      <td></td>\n",
       "    </tr>\n",
       "  </tbody>\n",
       "</table>\n",
       "</div>"
      ],
      "text/plain": [
       "                  title exploreQuery\n",
       "0           Coronavirus             \n",
       "1      Election results             \n",
       "2           Kobe Bryant             \n",
       "3                  Zoom             \n",
       "4                   IPL             \n",
       "5  India vs New Zealand             \n",
       "6    Coronavirus update             \n",
       "7  Coronavirus symptoms             \n",
       "8             Joe Biden             \n",
       "9      Google Classroom             "
      ]
     },
     "execution_count": 7,
     "metadata": {},
     "output_type": "execute_result"
    }
   ],
   "source": [
    "df = Trending_topics.top_charts(2020, hl='en-US', \n",
    "                                tz=300, geo='GLOBAL')\n",
    "df.head(10)\n"
   ]
  },
  {
   "cell_type": "code",
   "execution_count": 8,
   "id": "03cd43c1-bc2f-429d-b0e1-a59da9ac957d",
   "metadata": {},
   "outputs": [
    {
     "name": "stdout",
     "output_type": "stream",
     "text": [
      "No related queries found for 'Cloud Computing'\n"
     ]
    }
   ],
   "source": [
    "try:\n",
    "    Trending_topics.build_payload(kw_list=['Cloud Computing'])\n",
    "    related_queries = Trending_topics.related_queries()\n",
    "    related_queries.values()\n",
    "except (KeyError, IndexError):\n",
    "    print(\"No related queries found for 'Cloud Computing'\")\n"
   ]
  },
  {
   "cell_type": "code",
   "execution_count": 9,
   "id": "520d32e1-a0d8-419f-a237-9101078491e3",
   "metadata": {},
   "outputs": [
    {
     "data": {
      "text/html": [
       "<div>\n",
       "<style scoped>\n",
       "    .dataframe tbody tr th:only-of-type {\n",
       "        vertical-align: middle;\n",
       "    }\n",
       "\n",
       "    .dataframe tbody tr th {\n",
       "        vertical-align: top;\n",
       "    }\n",
       "\n",
       "    .dataframe thead th {\n",
       "        text-align: right;\n",
       "    }\n",
       "</style>\n",
       "<table border=\"1\" class=\"dataframe\">\n",
       "  <thead>\n",
       "    <tr style=\"text-align: right;\">\n",
       "      <th></th>\n",
       "      <th>title</th>\n",
       "      <th>type</th>\n",
       "    </tr>\n",
       "  </thead>\n",
       "  <tbody>\n",
       "    <tr>\n",
       "      <th>0</th>\n",
       "      <td>Cloud computing</td>\n",
       "      <td>Topic</td>\n",
       "    </tr>\n",
       "    <tr>\n",
       "      <th>1</th>\n",
       "      <td>Cloud computing</td>\n",
       "      <td>Topic</td>\n",
       "    </tr>\n",
       "    <tr>\n",
       "      <th>2</th>\n",
       "      <td>Cloud computing security</td>\n",
       "      <td>Topic</td>\n",
       "    </tr>\n",
       "    <tr>\n",
       "      <th>3</th>\n",
       "      <td>Alibaba Cloud</td>\n",
       "      <td>Computer application company</td>\n",
       "    </tr>\n",
       "    <tr>\n",
       "      <th>4</th>\n",
       "      <td>Private cloud computing infrastructure</td>\n",
       "      <td>Topic</td>\n",
       "    </tr>\n",
       "  </tbody>\n",
       "</table>\n",
       "</div>"
      ],
      "text/plain": [
       "                                    title                          type\n",
       "0                         Cloud computing                         Topic\n",
       "1                         Cloud computing                         Topic\n",
       "2                Cloud computing security                         Topic\n",
       "3                           Alibaba Cloud  Computer application company\n",
       "4  Private cloud computing infrastructure                         Topic"
      ]
     },
     "execution_count": 9,
     "metadata": {},
     "output_type": "execute_result"
    }
   ],
   "source": [
    "keywords = Trending_topics.suggestions(\n",
    "  keyword='Cloud Computing')\n",
    "df = pd.DataFrame(keywords)\n",
    "df.drop(columns= 'mid') \n"
   ]
  },
  {
   "cell_type": "code",
   "execution_count": null,
   "id": "e0bf57d5-4248-4dfd-a259-20d6c5928134",
   "metadata": {},
   "outputs": [],
   "source": []
  }
 ],
 "metadata": {
  "kernelspec": {
   "display_name": "Python 3 (ipykernel)",
   "language": "python",
   "name": "python3"
  },
  "language_info": {
   "codemirror_mode": {
    "name": "ipython",
    "version": 3
   },
   "file_extension": ".py",
   "mimetype": "text/x-python",
   "name": "python",
   "nbconvert_exporter": "python",
   "pygments_lexer": "ipython3",
   "version": "3.13.1"
  }
 },
 "nbformat": 4,
 "nbformat_minor": 5
}
